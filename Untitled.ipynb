{
 "cells": [
  {
   "cell_type": "code",
   "execution_count": 1,
   "id": "16b9bbba",
   "metadata": {},
   "outputs": [],
   "source": [
    "import pandas as pd\n",
    "import sqlite3\n",
    "\n",
    "csv_file_path = 'MostPopularShows.csv'\n",
    "\n",
    "sqlite_db_path = 'Netflix.db'\n",
    "\n",
    "df = pd.read_csv(csv_file_path)\n",
    "\n",
    "conn = sqlite3.connect(sqlite_db_path)\n",
    "\n",
    "df.to_sql('Netflix_Most_Popular_Shows', conn, if_exists='replace', index=False)\n",
    "\n",
    "conn.close()"
   ]
  },
  {
   "cell_type": "code",
   "execution_count": 2,
   "id": "d6478f84",
   "metadata": {},
   "outputs": [
    {
     "name": "stdout",
     "output_type": "stream",
     "text": [
      "     index                       TITLE  RELEASE_YEAR  SCORE  NUMBER_OF_VOTES  \\\n",
      "0        0                Breaking Bad          2008    9.5          1727694   \n",
      "1        1  Avatar: The Last Airbender          2005    9.3           297336   \n",
      "2        2                  Our Planet          2019    9.3            41386   \n",
      "3        3                Kota Factory          2019    9.3            66985   \n",
      "4        4              The Last Dance          2020    9.1           108321   \n",
      "..     ...                         ...           ...    ...              ...   \n",
      "241    241                 Evil Genius          2018    7.5            27516   \n",
      "242    242              13 Reasons Why          2017    7.5           282373   \n",
      "243    243                       Lupin          2021    7.5           100575   \n",
      "244    244          All of Us Are Dead          2022    7.5            41393   \n",
      "245    245     I Am Not Okay with This          2020    7.5            56459   \n",
      "\n",
      "     DURATION  NUMBER_OF_SEASONS   MAIN_GENRE MAIN_PRODUCTION  \n",
      "0          48                  5        drama              US  \n",
      "1          24                  3        scifi              US  \n",
      "2          50                  1  documentary              GB  \n",
      "3          42                  2        drama              IN  \n",
      "4          50                  1  documentary              US  \n",
      "..        ...                ...          ...             ...  \n",
      "241        48                  1        crime              US  \n",
      "242        58                  4        drama              US  \n",
      "243        46                  3        crime              FR  \n",
      "244        61                  1       action              KR  \n",
      "245        21                  1       comedy              US  \n",
      "\n",
      "[246 rows x 9 columns]\n"
     ]
    }
   ],
   "source": [
    "conn = sqlite3.connect(sqlite_db_path)\n",
    "\n",
    "df = pd.read_sql_query(\"SELECT * FROM Netflix_Most_Popular_Shows\", conn)\n",
    "\n",
    "conn.close()\n",
    "\n",
    "print(df)"
   ]
  },
  {
   "cell_type": "code",
   "execution_count": null,
   "id": "daec75a1",
   "metadata": {},
   "outputs": [],
   "source": []
  }
 ],
 "metadata": {
  "kernelspec": {
   "display_name": "Python 3 (ipykernel)",
   "language": "python",
   "name": "python3"
  },
  "language_info": {
   "codemirror_mode": {
    "name": "ipython",
    "version": 3
   },
   "file_extension": ".py",
   "mimetype": "text/x-python",
   "name": "python",
   "nbconvert_exporter": "python",
   "pygments_lexer": "ipython3",
   "version": "3.11.5"
  }
 },
 "nbformat": 4,
 "nbformat_minor": 5
}
