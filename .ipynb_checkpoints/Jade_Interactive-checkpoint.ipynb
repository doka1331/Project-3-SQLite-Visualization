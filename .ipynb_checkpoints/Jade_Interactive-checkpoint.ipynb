{
 "cells": [
  {
   "cell_type": "code",
   "execution_count": null,
   "id": "59f7db6d",
   "metadata": {},
   "outputs": [],
   "source": [
    "%matplotlib ipympl\n",
    "import pandas as pd\n",
    "import sqlite3\n",
    "import numpy as np\n",
    "import seaborn as sns\n",
    "import ipywidgets as widgets\n",
    "from IPython.display import display\n",
    "\n",
    "csv_file_path = 'MostPopularShows.csv'\n",
    "\n",
    "sqlite_db_path = 'Netflix.db'\n",
    "\n",
    "df = pd.read_csv(csv_file_path)\n",
    "\n",
    "conn = sqlite3.connect(sqlite_db_path)\n",
    "\n",
    "df.to_sql('Netflix_Most_Popular_Shows', conn, if_exists='replace', index=False)\n",
    "\n",
    "conn.close()"
   ]
  },
  {
   "cell_type": "code",
   "execution_count": null,
   "id": "9be71760",
   "metadata": {},
   "outputs": [],
   "source": [
    "conn = sqlite3.connect(sqlite_db_path)\n",
    "\n",
    "df = pd.read_sql_query(\"SELECT * FROM Netflix_Most_Popular_Shows\", conn)\n",
    "\n",
    "conn.close()\n",
    "\n",
    "print(df)"
   ]
  },
  {
   "cell_type": "code",
   "execution_count": null,
   "id": "6f494c72",
   "metadata": {},
   "outputs": [],
   "source": [
    "pandas_netflix_df = pd.DataFrame(df)\n",
    "pandas_netflix_df\n",
    "\n",
    "#Remove the 'index' column, it is not needed as the pandas dataframe creates one automatically\n",
    "pandas_netflix_df = pandas_netflix_df.drop(columns=['index'])\n",
    "#rename columns to be more clear\n",
    "columns_needing_renaming = {'TITLE': 'Title', 'RELEASE_YEAR': 'Year of Release', 'SCORE': 'IMDB Score', 'NUMBER_OF_VOTES': 'Number of IMDB User Votes', 'DURATION': 'Duration of a Single Episode (in Minutes)', 'NUMBER_OF_SEASONS': 'Number of Released Seasons', 'MAIN_GENRE': 'Genre', 'MAIN_PRODUCTION': 'Country of Production Origin'}\n",
    "pandas_netflix_df.rename(columns=columns_needing_renaming, inplace=True)\n",
    "pandas_netflix_df"
   ]
  },
  {
   "cell_type": "code",
   "execution_count": null,
   "id": "921b76b5",
   "metadata": {},
   "outputs": [],
   "source": [
    "code inspired by: https://plainenglish.io/blog/interactive-visualizations-with-pandas-seaborn-and-ipywidgets-173e5d7d6a5e"
   ]
  },
  {
   "cell_type": "code",
   "execution_count": null,
   "id": "1fb0716e",
   "metadata": {},
   "outputs": [],
   "source": [
    "categorical_columns = [column for column in pandas_netflix_df if pandas_netflix_df[column].dtype == \"object\"]\n",
    "column_dropdown = widgets.Dropdown(options=categorical_columns, value=categorical_columns[0], description=\"Column\")\n",
    "hue_dropdown = widgets.Dropdown(options=categorical_columns, value=categorical_columns[0], description=\"Hue\")\n",
    "\n",
    "ui = widgets.HBox([column_dropdown, hue_dropdown])\n",
    "\n",
    "def draw_countplot(column, hue):\n",
    "    p = sns.countplot(data=pandas_netflix_df, x=column, hue=hue)\n",
    "    if len(pandas_netflix_df[column].unique()) > 4:\n",
    "        p.tick_params(axis='x', rotation=90)\n",
    "        \n",
    "out = widgets.interactive_output(draw_countplot, {'column': column_dropdown, 'hue': hue_dropdown})\n",
    "display(ui, out)"
   ]
  },
  {
   "cell_type": "code",
   "execution_count": null,
   "id": "431d94b3",
   "metadata": {},
   "outputs": [],
   "source": [
    "# Extract all columns for the dropdown options\n",
    "all_columns = pandas_netflix_df.columns.tolist()\n",
    "\n",
    "# Set up dropdown widgets for both x-axis and hue\n",
    "column_dropdown = widgets.Dropdown(options=all_columns, value=all_columns[0], description=\"Column\")\n",
    "hue_dropdown = widgets.Dropdown(options=all_columns, value=all_columns[0], description=\"Hue\")\n",
    "\n",
    "# Display the dropdowns in a horizontal layout\n",
    "ui = widgets.HBox([column_dropdown, hue_dropdown])\n",
    "\n",
    "# Define function to draw countplot\n",
    "def draw_countplot(column, hue):\n",
    "    p = sns.countplot(data=pandas_netflix_df, x=column, hue=hue, y=\"IMDB Score\")\n",
    "    if len(pandas_netflix_df[column].unique()) > 4:\n",
    "        p.tick_params(axis='x', rotation=90)\n",
    "\n",
    "# Create interactive output\n",
    "out = widgets.interactive_output(draw_countplot, {'column': column_dropdown, 'hue': hue_dropdown})\n",
    "\n",
    "# Display the UI elements and interactive output\n",
    "display(ui, out)"
   ]
  },
  {
   "cell_type": "code",
   "execution_count": null,
   "id": "0bfe069d",
   "metadata": {},
   "outputs": [],
   "source": []
  }
 ],
 "metadata": {
  "kernelspec": {
   "display_name": "Python 3 (ipykernel)",
   "language": "python",
   "name": "python3"
  },
  "language_info": {
   "codemirror_mode": {
    "name": "ipython",
    "version": 3
   },
   "file_extension": ".py",
   "mimetype": "text/x-python",
   "name": "python",
   "nbconvert_exporter": "python",
   "pygments_lexer": "ipython3",
   "version": "3.11.5"
  }
 },
 "nbformat": 4,
 "nbformat_minor": 5
}
